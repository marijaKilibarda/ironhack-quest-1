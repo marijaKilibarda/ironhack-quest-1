{
 "cells": [
  {
   "cell_type": "code",
   "execution_count": 3,
   "id": "32b71cd6-30ab-49c9-a4dc-a1c56a1ef8de",
   "metadata": {},
   "outputs": [],
   "source": [
    "jumping = 0\n",
    "# define rooms and items\n",
    "#game room items\n",
    "couch = {\n",
    "    \"name\": \"couch\",\n",
    "    \"type\": \"furniture\",\n",
    "}\n",
    "\n",
    "door_a = {\n",
    "    \"name\": \"door a\",\n",
    "    \"type\": \"door\",\n",
    "}\n",
    "\n",
    "key_a = {\n",
    "    \"name\": \"key for door a\",\n",
    "    \"type\": \"key\",\n",
    "    \"target\": door_a,\n",
    "}\n",
    "\n",
    "piano = {\n",
    "    \"name\": \"piano\",\n",
    "    \"type\": \"furniture\",\n",
    "}\n",
    "\n",
    "game_room = {\n",
    "    \"name\": \"game room\",\n",
    "    \"type\": \"room\",\n",
    "}\n",
    "#Bedroom 1 items\n",
    "bedroom_1 = {\n",
    "        \"name\": \"bedroom 1\",\n",
    "        \"type\" : \"room\",\n",
    "}\n",
    "queen_bed = {\n",
    "    \"name\" : \"queen bed\",\n",
    "    \"type\" : \"furniture\",\n",
    "}\n",
    "door_b = {\n",
    "    \"name\": \"door b\",\n",
    "    \"type\": \"door\",\n",
    "}\n",
    "door_c = {\n",
    "    \"name\": \"door c\",\n",
    "    \"type\": \"door\",\n",
    "}\n",
    "key_b = {\n",
    "    \"name\": \"key for door b\",\n",
    "    \"type\": \"key\",\n",
    "    \"target\": door_b,\n",
    "}\n",
    "\n",
    "#Bedroom 2 items\n",
    "bedroom_2 = {\n",
    "    \"name\": \"bedroom 2\",\n",
    "    \"type\" : \"room\",\n",
    "}\n",
    "\n",
    "double_bed = {\n",
    "    \"name\": \"double bed\",\n",
    "    \"type\": \"furniture\",\n",
    "}\n",
    "\n",
    "dresser = {\n",
    "    \"name\": \"dresser\",\n",
    "    \"type\": \"furniture\",\n",
    "}\n",
    "\n",
    "key_c = {\n",
    "    \"name\": \"key for door c\",\n",
    "    \"type\": \"key\",\n",
    "    \"target\": door_c,\n",
    "}\n",
    "\n",
    "# Living room items\n",
    "living_room = {\n",
    "    \"name\" : \"living room\",\n",
    "    \"type\" : \"room\",\n",
    "}\n",
    "dining_table = {\n",
    "    \"name\" : \"dining table\",\n",
    "    \"type\" : \"furniture\",\n",
    "}\n",
    "door_d = {\n",
    "    \"name\" : \"door d\",\n",
    "    \"type\" : \"door\",\n",
    "}\n",
    "key_d = { #it is in bedroom 2\n",
    "    \"name\": \"key for door d\",\n",
    "    \"type\": \"key\",\n",
    "    \"target\": door_d,\n",
    "}\n",
    "fancy_dress = {\n",
    "    \"name\": \"fancy dress\",\n",
    "    \"type\": \"key\",\n",
    "    \"target\": door_d,\n",
    "}\n",
    "outside = {\n",
    "  \"name\": \"outside\",\n",
    "}\n",
    "\n",
    "tired = {\n",
    "    \"name\": \"tired\",\n",
    "    \"type\": \"door\",\n",
    "}\n",
    "\n",
    "all_rooms = [game_room, bedroom_1, bedroom_2, living_room, outside]\n",
    "\n",
    "all_doors = [door_a, door_b, door_c, door_d, tired]\n",
    "\n",
    "# define which items/rooms are related\n",
    "\n",
    "object_relations = {\n",
    "    \"game room\": [couch, piano, door_a, tired],\n",
    "    \"bedroom 1\" : [queen_bed, door_a, door_b, door_c, tired],\n",
    "    \"bedroom 2\": [double_bed, dresser, door_b, tired],\n",
    "    \"living room\" : [dining_table, door_c, door_d, tired],\n",
    "    \"outside\": [door_d, tired],\n",
    "    \"piano\": [key_a],\n",
    "    \"queen bed\" : [key_b],\n",
    "    \"double bed\":[key_c],\n",
    "    \"dresser\": [fancy_dress],\n",
    "    \"dining table\": [key_d],\n",
    "    \"door a\": [game_room, bedroom_1],\n",
    "    \"door b\": [bedroom_1, bedroom_2],\n",
    "    \"door c\" : [bedroom_1, living_room],\n",
    "    \"door d\" : [living_room, outside],\n",
    "    \"tired\" : [game_room, bedroom_1, bedroom_2, living_room]\n",
    "}\n",
    "\n",
    "\n",
    "# define game state. Do not directly change this dict. \n",
    "# Instead, when a new game starts, make a copy of this\n",
    "# dict and use the copy to store gameplay state. This \n",
    "# way you can replay the game multiple times.\n",
    "\n",
    "INIT_GAME_STATE = {\n",
    "    \"current_room\": game_room,\n",
    "    \"keys_collected\": [],\n",
    "    \"target_room\": outside,\n",
    "    \"mistakes\": [],\n",
    "    \"mistake_count\": 0,\n",
    "    \"game_over\": False\n",
    "}\n",
    "\n",
    "def linebreak():\n",
    "    \"\"\"\n",
    "    Print a line break\n",
    "    \"\"\"\n",
    "    print(\"\\n\\n\")\n",
    "\n",
    "def start_game():\n",
    "    \"\"\"\n",
    "    Start the game\n",
    "    \"\"\"\n",
    "    print(\"You wake up on a couch and find yourself in a strange house with no windows which you have never been to before. You don't remember why you are here and what had happened before. You feel some unknown danger is approaching and you must get out of the house, NOW!\")\n",
    "    play_room(game_state[\"current_room\"])\n",
    "\n",
    "def play_room(room):\n",
    "    \"\"\"\n",
    "    Play a room. First check if the room being played is the target room.\n",
    "    If it is, the game will end with success. Otherwise, let player either \n",
    "    explore (list all items in this room) or examine an item found here.\n",
    "    \"\"\"\n",
    "    if game_state[\"game_over\"]:\n",
    "        return\n",
    "    global jumping    \n",
    "    game_state[\"current_room\"] = room\n",
    "    next_room = game_state[\"target_room\"]\n",
    "\n",
    "    if(game_state[\"current_room\"] == game_state[\"target_room\"]):\n",
    "        if jumping == 2: \n",
    "            print(\"You jumped for the last time. You are now exhausted and can't scape. GAME OVER\")\n",
    "        else: \n",
    "            print(\"Congrats! You escaped the room!\")\n",
    "            game_state[\"game_over\"] = True\n",
    "            offer_replay()  # Offer to play again\n",
    "    else:\n",
    "        print(\"You are now in \" + room[\"name\"])\n",
    "        intended_action = input(\"What would you like to do? Type 'explore' or 'examine' or 'jump'?\").strip()\n",
    "        if intended_action == \"explore\":\n",
    "            explore_room(room)\n",
    "            play_room(room)\n",
    "        elif intended_action == \"examine\":\n",
    "            examine_item(input(\"What would you like to examine?\").strip())\n",
    "        elif intended_action == \"jump\":\n",
    "            if jumping < 2:\n",
    "                jumping += 1\n",
    "                print(\"You jumped but nothing happened. You start to feel tired now\")\n",
    "                play_room(room)\n",
    "            elif jumping >= 2:\n",
    "                play_room(next_room)\n",
    "        else:\n",
    "            handle_mistake(\"Invalid action\")\n",
    "            if not game_state[\"game_over\"]:  # Only print if the game hasn't ended\n",
    "                print(\"Not sure what you mean. Type 'explore' or 'examine'.\")\n",
    "            play_room(room)\n",
    "        linebreak()\n",
    "def offer_replay():\n",
    "    \"\"\"\n",
    "    Offer the player the chance to play again after the game has ended.\n",
    "    \"\"\"\n",
    "    if input(\"Do you want to play again? (yes/no): \").strip().lower() == 'yes':\n",
    "        restart_game()\n",
    "    else:\n",
    "        print(\"Thank you for playing! Goodbye!\")\n",
    "        game_state[\"game_over\"] = True\n",
    "\n",
    "def restart_game():\n",
    "    \"\"\"\n",
    "    Restart the game by resetting the game state and starting again.\n",
    "    \"\"\"\n",
    "    global game_state\n",
    "    question = input(\"Do you want to play again? (yes/no): \").strip().lower()\n",
    "    \n",
    "    if question == 'yes':\n",
    "         game_state = INIT_GAME_STATE.copy()  # Reset the game state\n",
    "         start_game()\n",
    "    elif question == 'no':\n",
    "         print(\"Thank you for playing! Goodbye!\")\n",
    "         game_state[\"game_over\"] = True\n",
    "    else: \n",
    "         print(\"Not sure what you mean. Type 'yes' or 'no'.\")\n",
    "         restart_game()   \n",
    "\n",
    "def explore_room(room):\n",
    "    \"\"\"\n",
    "    Explore a room. List all items belonging to this room.\n",
    "    \"\"\"\n",
    "    items = [i[\"name\"] for i in object_relations[room[\"name\"]]]\n",
    "    print(\"You explore the room. This is \" + room[\"name\"] + \". You find \" + \", \".join(items))\n",
    "\n",
    "def get_next_room_of_door(door, current_room):\n",
    "    \"\"\"\n",
    "    From object_relations, find the two rooms connected to the given door.\n",
    "    Return the room that is not the current_room.\n",
    "    \"\"\"\n",
    "    connected_rooms = object_relations[door[\"name\"]]\n",
    "    for room in connected_rooms:\n",
    "        if(not current_room == room):\n",
    "            return room\n",
    "\n",
    "def examine_item(item_name):\n",
    "    \"\"\"\n",
    "    Examine an item which can be a door or furniture.\n",
    "    First make sure the intended item belongs to the current room.\n",
    "    Then check if the item is a door. Tell player if key hasn't been \n",
    "    collected yet. Otherwise ask player if they want to go to the next\n",
    "    room. If the item is not a door, then check if it contains keys.\n",
    "    Collect the key if found and update the game state. At the end,\n",
    "    play either the current or the next room depending on the game state\n",
    "    to keep playing.\n",
    "    \"\"\"\n",
    "    if game_state[\"game_over\"]:\n",
    "        return\n",
    "    current_room = game_state[\"current_room\"]\n",
    "    next_room = \"\"\n",
    "    output = None\n",
    "    \n",
    "    for item in object_relations[current_room[\"name\"]]:\n",
    "        if(item[\"name\"] == item_name):\n",
    "            output = \"You examine \" + item_name + \". \"\n",
    "            if(item[\"type\"] == \"door\"):\n",
    "                have_key = False\n",
    "                for key in game_state[\"keys_collected\"]:\n",
    "                    if(key[\"target\"] == item):\n",
    "                        have_key = True\n",
    "                if(have_key):\n",
    "                    output += \"You unlock it with a key you have.\"\n",
    "                    next_room = get_next_room_of_door(item, current_room)\n",
    "                else:\n",
    "                    output += \"It is locked but you don't have the key.\"\n",
    "            else:\n",
    "                if(item[\"name\"] in object_relations and len(object_relations[item[\"name\"]])>0):\n",
    "                    item_found = object_relations[item[\"name\"]].pop()\n",
    "                    game_state[\"keys_collected\"].append(item_found)\n",
    "                    output += \"You find \" + item_found[\"name\"] + \".\"\n",
    "                else:\n",
    "                    output += \"There isn't anything interesting about it.\"\n",
    "            print(output)\n",
    "            break\n",
    "\n",
    "    if(output is None):\n",
    "        handle_mistake(print(f\"The item '{item_name}' is not found in the current room.\"))\n",
    "    \n",
    "    if(next_room and input(\"Do you want to go to the next room? Enter 'yes' or 'no'\").strip() == 'yes'):\n",
    "        play_room(next_room)\n",
    "    else:\n",
    "        play_room(current_room)\n",
    "\n",
    "def handle_mistake(message):\n",
    "    \"\"\"\n",
    "    Handle mistakes by recording them and offering the user to end the game\n",
    "    if three mistakes are made in a row.\n",
    "    \"\"\"\n",
    "    game_state[\"mistakes\"].append(message)\n",
    "    game_state[\"mistake_count\"] += 1\n",
    "    print(message)\n",
    "\n",
    "    if game_state[\"mistake_count\"] >= 3:\n",
    "        if input(\"You've made 3 mistakes in a row. Are you tired? Do you want to end the game? (yes/no)\").strip() == 'yes':\n",
    "            print(\"Ending the game. Goodbye!\")\n",
    "            game_state[\"game_over\"] = True\n",
    "            restart_game()\n",
    "\n"
   ]
  },
  {
   "cell_type": "code",
   "execution_count": 5,
   "id": "05e85b36-fd41-4311-b34f-73ef371d2f02",
   "metadata": {},
   "outputs": [
    {
     "name": "stdout",
     "output_type": "stream",
     "text": [
      "You wake up on a couch and find yourself in a strange house with no windows which you have never been to before. You don't remember why you are here and what had happened before. You feel some unknown danger is approaching and you must get out of the house, NOW!\n",
      "You are now in game room\n"
     ]
    },
    {
     "name": "stdin",
     "output_type": "stream",
     "text": [
      "What would you like to do? Type 'explore' or 'examine' or 'jump'? explore\n"
     ]
    },
    {
     "name": "stdout",
     "output_type": "stream",
     "text": [
      "You explore the room. This is game room. You find couch, piano, door a, tired\n",
      "You are now in game room\n"
     ]
    },
    {
     "name": "stdin",
     "output_type": "stream",
     "text": [
      "What would you like to do? Type 'explore' or 'examine' or 'jump'? examine\n",
      "What would you like to examine? hat\n"
     ]
    },
    {
     "name": "stdout",
     "output_type": "stream",
     "text": [
      "The item 'hat' is not found in the current room.\n",
      "None\n",
      "You are now in game room\n"
     ]
    },
    {
     "name": "stdin",
     "output_type": "stream",
     "text": [
      "What would you like to do? Type 'explore' or 'examine' or 'jump'? hat\n"
     ]
    },
    {
     "name": "stdout",
     "output_type": "stream",
     "text": [
      "Invalid action\n",
      "Not sure what you mean. Type 'explore' or 'examine'.\n",
      "You are now in game room\n"
     ]
    },
    {
     "name": "stdin",
     "output_type": "stream",
     "text": [
      "What would you like to do? Type 'explore' or 'examine' or 'jump'? hat\n"
     ]
    },
    {
     "name": "stdout",
     "output_type": "stream",
     "text": [
      "Invalid action\n"
     ]
    },
    {
     "name": "stdin",
     "output_type": "stream",
     "text": [
      "You've made 3 mistakes in a row. Are you tired? Do you want to end the game? (yes/no) no\n"
     ]
    },
    {
     "name": "stdout",
     "output_type": "stream",
     "text": [
      "Not sure what you mean. Type 'explore' or 'examine'.\n",
      "You are now in game room\n"
     ]
    },
    {
     "name": "stdin",
     "output_type": "stream",
     "text": [
      "What would you like to do? Type 'explore' or 'examine' or 'jump'? de\n"
     ]
    },
    {
     "name": "stdout",
     "output_type": "stream",
     "text": [
      "Invalid action\n"
     ]
    },
    {
     "name": "stdin",
     "output_type": "stream",
     "text": [
      "You've made 3 mistakes in a row. Are you tired? Do you want to end the game? (yes/no) de\n"
     ]
    },
    {
     "name": "stdout",
     "output_type": "stream",
     "text": [
      "Not sure what you mean. Type 'explore' or 'examine'.\n",
      "You are now in game room\n"
     ]
    },
    {
     "name": "stdin",
     "output_type": "stream",
     "text": [
      "What would you like to do? Type 'explore' or 'examine' or 'jump'? de\n"
     ]
    },
    {
     "name": "stdout",
     "output_type": "stream",
     "text": [
      "Invalid action\n"
     ]
    },
    {
     "name": "stdin",
     "output_type": "stream",
     "text": [
      "You've made 3 mistakes in a row. Are you tired? Do you want to end the game? (yes/no) yes\n"
     ]
    },
    {
     "name": "stdout",
     "output_type": "stream",
     "text": [
      "Ending the game. Goodbye!\n"
     ]
    },
    {
     "name": "stdin",
     "output_type": "stream",
     "text": [
      "Do you want to play again? (yes/no):  yes\n"
     ]
    },
    {
     "name": "stdout",
     "output_type": "stream",
     "text": [
      "You wake up on a couch and find yourself in a strange house with no windows which you have never been to before. You don't remember why you are here and what had happened before. You feel some unknown danger is approaching and you must get out of the house, NOW!\n",
      "You are now in game room\n"
     ]
    },
    {
     "name": "stdin",
     "output_type": "stream",
     "text": [
      "What would you like to do? Type 'explore' or 'examine' or 'jump'? ds\n"
     ]
    },
    {
     "name": "stdout",
     "output_type": "stream",
     "text": [
      "Invalid action\n",
      "Not sure what you mean. Type 'explore' or 'examine'.\n",
      "You are now in game room\n"
     ]
    },
    {
     "name": "stdin",
     "output_type": "stream",
     "text": [
      "What would you like to do? Type 'explore' or 'examine' or 'jump'? ds\n"
     ]
    },
    {
     "name": "stdout",
     "output_type": "stream",
     "text": [
      "Invalid action\n",
      "Not sure what you mean. Type 'explore' or 'examine'.\n",
      "You are now in game room\n"
     ]
    },
    {
     "name": "stdin",
     "output_type": "stream",
     "text": [
      "What would you like to do? Type 'explore' or 'examine' or 'jump'? ds\n"
     ]
    },
    {
     "name": "stdout",
     "output_type": "stream",
     "text": [
      "Invalid action\n"
     ]
    },
    {
     "name": "stdin",
     "output_type": "stream",
     "text": [
      "You've made 3 mistakes in a row. Are you tired? Do you want to end the game? (yes/no) ds\n"
     ]
    },
    {
     "name": "stdout",
     "output_type": "stream",
     "text": [
      "Not sure what you mean. Type 'explore' or 'examine'.\n",
      "You are now in game room\n"
     ]
    },
    {
     "name": "stdin",
     "output_type": "stream",
     "text": [
      "What would you like to do? Type 'explore' or 'examine' or 'jump'? ds\n"
     ]
    },
    {
     "name": "stdout",
     "output_type": "stream",
     "text": [
      "Invalid action\n"
     ]
    },
    {
     "name": "stdin",
     "output_type": "stream",
     "text": [
      "You've made 3 mistakes in a row. Are you tired? Do you want to end the game? (yes/no) yes\n"
     ]
    },
    {
     "name": "stdout",
     "output_type": "stream",
     "text": [
      "Ending the game. Goodbye!\n"
     ]
    },
    {
     "name": "stdin",
     "output_type": "stream",
     "text": [
      "Do you want to play again? (yes/no):  no\n"
     ]
    },
    {
     "name": "stdout",
     "output_type": "stream",
     "text": [
      "Thank you for playing! Goodbye!\n",
      "\n",
      "\n",
      "\n",
      "\n",
      "\n",
      "\n",
      "\n",
      "\n",
      "\n",
      "\n",
      "\n",
      "\n",
      "\n",
      "\n",
      "\n",
      "\n",
      "\n",
      "\n",
      "\n",
      "\n",
      "\n",
      "\n",
      "\n",
      "\n",
      "\n",
      "\n",
      "\n",
      "\n",
      "\n",
      "\n"
     ]
    }
   ],
   "source": [
    "game_state = INIT_GAME_STATE.copy()\n",
    "\n",
    "start_game()"
   ]
  },
  {
   "cell_type": "code",
   "execution_count": 7,
   "id": "8d5efe87-97c9-4daa-b01c-89c71772bdb7",
   "metadata": {},
   "outputs": [
    {
     "name": "stdout",
     "output_type": "stream",
     "text": [
      "You wake up on a couch and find yourself in a strange house with no windows which you have never been to before. You don't remember why you are here and what had happened before. You feel some unknown danger is approaching and you must get out of the house, NOW!\n",
      "You are now in game room\n"
     ]
    },
    {
     "name": "stdin",
     "output_type": "stream",
     "text": [
      "What would you like to do? Type 'explore' or 'examine' or 'jump'? jump\n"
     ]
    },
    {
     "name": "stdout",
     "output_type": "stream",
     "text": [
      "You jumped but nothing happened. You start to feel tired now\n",
      "You are now in game room\n"
     ]
    },
    {
     "name": "stdin",
     "output_type": "stream",
     "text": [
      "What would you like to do? Type 'explore' or 'examine' or 'jump'? jump\n"
     ]
    },
    {
     "name": "stdout",
     "output_type": "stream",
     "text": [
      "You jumped but nothing happened. You start to feel tired now\n",
      "You are now in game room\n"
     ]
    },
    {
     "name": "stdin",
     "output_type": "stream",
     "text": [
      "What would you like to do? Type 'explore' or 'examine' or 'jump'? jump\n"
     ]
    },
    {
     "name": "stdout",
     "output_type": "stream",
     "text": [
      "You jumped for the last time. You are now exhausted and can't scape. GAME OVER\n",
      "\n",
      "\n",
      "\n",
      "\n",
      "\n",
      "\n",
      "\n",
      "\n",
      "\n"
     ]
    }
   ],
   "source": [
    "game_state = INIT_GAME_STATE.copy()\n",
    "\n",
    "start_game()"
   ]
  }
 ],
 "metadata": {
  "kernelspec": {
   "display_name": "Python 3 (ipykernel)",
   "language": "python",
   "name": "python3"
  },
  "language_info": {
   "codemirror_mode": {
    "name": "ipython",
    "version": 3
   },
   "file_extension": ".py",
   "mimetype": "text/x-python",
   "name": "python",
   "nbconvert_exporter": "python",
   "pygments_lexer": "ipython3",
   "version": "3.12.4"
  }
 },
 "nbformat": 4,
 "nbformat_minor": 5
}
